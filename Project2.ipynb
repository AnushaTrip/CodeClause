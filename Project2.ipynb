{
  "cells": [
    {
      "cell_type": "markdown",
      "metadata": {
        "id": "view-in-github",
        "colab_type": "text"
      },
      "source": [
        "<a href=\"https://colab.research.google.com/github/AnushaTrip/CodeClause/blob/main/Project2.ipynb\" target=\"_parent\"><img src=\"https://colab.research.google.com/assets/colab-badge.svg\" alt=\"Open In Colab\"/></a>"
      ]
    },
    {
      "cell_type": "code",
      "execution_count": 2,
      "metadata": {
        "colab": {
          "base_uri": "https://localhost:8080/"
        },
        "id": "Z5GUbCG9gckC",
        "outputId": "37ffb876-3f05-4dc3-a5d9-06142bc30c28"
      },
      "outputs": [
        {
          "output_type": "stream",
          "name": "stdout",
          "text": [
            "Collecting pyshorteners\n",
            "  Downloading pyshorteners-1.0.1.tar.gz (10.0 kB)\n",
            "  Preparing metadata (setup.py) ... \u001b[?25l\u001b[?25hdone\n",
            "Requirement already satisfied: requests in /usr/local/lib/python3.10/dist-packages (from pyshorteners) (2.31.0)\n",
            "Requirement already satisfied: charset-normalizer<4,>=2 in /usr/local/lib/python3.10/dist-packages (from requests->pyshorteners) (3.3.2)\n",
            "Requirement already satisfied: idna<4,>=2.5 in /usr/local/lib/python3.10/dist-packages (from requests->pyshorteners) (3.7)\n",
            "Requirement already satisfied: urllib3<3,>=1.21.1 in /usr/local/lib/python3.10/dist-packages (from requests->pyshorteners) (2.0.7)\n",
            "Requirement already satisfied: certifi>=2017.4.17 in /usr/local/lib/python3.10/dist-packages (from requests->pyshorteners) (2024.6.2)\n",
            "Building wheels for collected packages: pyshorteners\n",
            "  Building wheel for pyshorteners (setup.py) ... \u001b[?25l\u001b[?25hdone\n",
            "  Created wheel for pyshorteners: filename=pyshorteners-1.0.1-py3-none-any.whl size=17479 sha256=9abd5b28fe01725c4e079bee57c6d46306266a5b646e6b749a35a0ff18b5377c\n",
            "  Stored in directory: /root/.cache/pip/wheels/d5/ff/b3/16d8906f92ab0b042f76a4696fcea11d291d79a2b3a3de1e78\n",
            "Successfully built pyshorteners\n",
            "Installing collected packages: pyshorteners\n",
            "Successfully installed pyshorteners-1.0.1\n"
          ]
        }
      ],
      "source": [
        "!pip install pyshorteners"
      ]
    },
    {
      "cell_type": "code",
      "execution_count": 16,
      "metadata": {
        "colab": {
          "base_uri": "https://localhost:8080/"
        },
        "id": "VUmFOw07geL6",
        "outputId": "06be59e1-de86-4e52-9255-ad1e36ef3597"
      },
      "outputs": [
        {
          "output_type": "stream",
          "name": "stdout",
          "text": [
            "This is our little URL Shortener Service with the following options for you to choose!\n",
            "\n",
            "1. Shorten a URL\n",
            "2. Retrieve a URL\n",
            "3. Quit\n",
            "\n",
            "Enter your choice (1/2/3): 1\n",
            "Enter the long URL: https://colab.research.google.com/drive/1Mu3JK-99gmqRalV1n2rlJfOH3Jsh48Mc#scrollTo=VUmFOw07geL6\n",
            "Shortened URL: https://tinyurl.com/2dkodub9\n",
            "1. Shorten a URL\n",
            "2. Retrieve a URL\n",
            "3. Quit\n",
            "\n",
            "Enter your choice (1/2/3): 3\n",
            "Exiting from our URL Shortener Service. Thank you!\n"
          ]
        }
      ],
      "source": [
        "import pyshorteners as py\n",
        "\n",
        "#dictionary to store the mapping of short URLs to their respective long URLs\n",
        "map = {}\n",
        "\n",
        "def shorten_url(long):\n",
        "    #initializing the shortener\n",
        "    shortener = py.Shortener()\n",
        "    #shorten the URL\n",
        "    short = shortener.tinyurl.short(long)\n",
        "    # Store the mapping\n",
        "    map[short] = long\n",
        "    return short\n",
        "\n",
        "def retrieve_long_url(short):\n",
        "    # Retrieve the long URL from the short URL\n",
        "    return map.get(short, \"URL not found\")\n",
        "\n",
        "def main():\n",
        "    print(\"This is our little URL Shortener Service with the following options for you to choose!\\n\")\n",
        "    while 1:\n",
        "        print(\"1. Shorten a URL\")\n",
        "        print(\"2. Retrieve a URL\")\n",
        "        print(\"3. Quit\\n\")\n",
        "\n",
        "        c = input(\"Enter your choice (1/2/3): \").strip()\n",
        "\n",
        "        if c == '1':\n",
        "            long = input(\"Enter the long URL: \").strip()\n",
        "            if long:\n",
        "                short = shorten_url(long)\n",
        "                print(f\"Shortened URL: {short}\")\n",
        "            else:\n",
        "                print(\"Error: Please enter a valid URL!\")\n",
        "\n",
        "        elif c == '2':\n",
        "            short = input(\"Enter the shortened URL: \").strip()\n",
        "            long = retrieve_long_url(short)\n",
        "            print(f\"Long URL: {long}\")\n",
        "\n",
        "        elif c == '3':\n",
        "            print(\"Exiting from our URL Shortener Service. Thank you!\")\n",
        "            break\n",
        "\n",
        "        else:\n",
        "            print(\"Invalid choice, please try again!\")\n",
        "\n",
        "\n",
        "main()"
      ]
    }
  ],
  "metadata": {
    "colab": {
      "provenance": [],
      "authorship_tag": "ABX9TyOIjHgXGqRMf6tItfaFageC",
      "include_colab_link": true
    },
    "kernelspec": {
      "display_name": "Python 3",
      "name": "python3"
    },
    "language_info": {
      "name": "python"
    }
  },
  "nbformat": 4,
  "nbformat_minor": 0
}